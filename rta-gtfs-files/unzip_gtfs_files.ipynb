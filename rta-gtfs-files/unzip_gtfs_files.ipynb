{
 "cells": [
  {
   "cell_type": "code",
   "execution_count": 10,
   "id": "400dc730-402a-4abe-80a2-b75d75086f85",
   "metadata": {
    "tags": []
   },
   "outputs": [],
   "source": [
    "import os\n",
    "import zipfile"
   ]
  },
  {
   "cell_type": "code",
   "execution_count": 18,
   "id": "dd9b7f13-ab3a-410f-aaa4-ead586b675ba",
   "metadata": {
    "tags": []
   },
   "outputs": [],
   "source": [
    "zipped_base_path = \"zipped-files\"\n",
    "unzipped_base_path = \"unzipped-files\"\n",
    "\n",
    "if unzipped_base_path not in os.listdir():\n",
    "    os.mkdir(unzipped_base_path)\n",
    "    \n",
    "for zip_file in os.listdir(zipped_base_path):\n",
    "    file_path = os.path.join(zipped_base_path, zip_file)\n",
    "    \n",
    "    unzipped_path = os.path.join(\n",
    "        unzipped_base_path, zip_file.replace(\".zip\",\"\")\n",
    "    )\n",
    "    \n",
    "    with zipfile.ZipFile(file_path, 'r') as zip_ref:\n",
    "        zip_ref.extractall(unzipped_path)"
   ]
  },
  {
   "cell_type": "code",
   "execution_count": null,
   "id": "ef421884-b5c6-45be-895b-0e599004c267",
   "metadata": {},
   "outputs": [],
   "source": []
  }
 ],
 "metadata": {
  "environment": {
   "kernel": "python3",
   "name": ".m118",
   "type": "gcloud",
   "uri": "us-docker.pkg.dev/deeplearning-platform-release/gcr.io/:m118"
  },
  "kernelspec": {
   "display_name": "Python 3",
   "language": "python",
   "name": "python3"
  },
  "language_info": {
   "codemirror_mode": {
    "name": "ipython",
    "version": 3
   },
   "file_extension": ".py",
   "mimetype": "text/x-python",
   "name": "python",
   "nbconvert_exporter": "python",
   "pygments_lexer": "ipython3",
   "version": "3.10.13"
  }
 },
 "nbformat": 4,
 "nbformat_minor": 5
}

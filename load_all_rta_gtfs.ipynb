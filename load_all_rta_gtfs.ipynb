{
 "cells": [
  {
   "cell_type": "code",
   "execution_count": 1,
   "id": "19dedea5-efa0-4cf8-8820-bc43e6f734c6",
   "metadata": {
    "tags": []
   },
   "outputs": [
    {
     "name": "stderr",
     "output_type": "stream",
     "text": [
      "── \u001b[1mAttaching core tidyverse packages\u001b[22m ──────────────────────── tidyverse 2.0.0 ──\n",
      "\u001b[32m✔\u001b[39m \u001b[34mdplyr    \u001b[39m 1.1.4     \u001b[32m✔\u001b[39m \u001b[34mreadr    \u001b[39m 2.1.5\n",
      "\u001b[32m✔\u001b[39m \u001b[34mforcats  \u001b[39m 1.0.0     \u001b[32m✔\u001b[39m \u001b[34mstringr  \u001b[39m 1.5.1\n",
      "\u001b[32m✔\u001b[39m \u001b[34mggplot2  \u001b[39m 3.5.0     \u001b[32m✔\u001b[39m \u001b[34mtibble   \u001b[39m 3.2.1\n",
      "\u001b[32m✔\u001b[39m \u001b[34mlubridate\u001b[39m 1.9.3     \u001b[32m✔\u001b[39m \u001b[34mtidyr    \u001b[39m 1.3.1\n",
      "\u001b[32m✔\u001b[39m \u001b[34mpurrr    \u001b[39m 1.0.2     \n",
      "── \u001b[1mConflicts\u001b[22m ────────────────────────────────────────── tidyverse_conflicts() ──\n",
      "\u001b[31m✖\u001b[39m \u001b[34mdplyr\u001b[39m::\u001b[32mfilter()\u001b[39m masks \u001b[34mstats\u001b[39m::filter()\n",
      "\u001b[31m✖\u001b[39m \u001b[34mdplyr\u001b[39m::\u001b[32mlag()\u001b[39m    masks \u001b[34mstats\u001b[39m::lag()\n",
      "\u001b[36mℹ\u001b[39m Use the conflicted package (\u001b[3m\u001b[34m<http://conflicted.r-lib.org/>\u001b[39m\u001b[23m) to force all conflicts to become errors\n",
      "Linking to GEOS 3.9.0, GDAL 3.2.2, PROJ 7.2.1; sf_use_s2() is TRUE\n",
      "\n",
      "\u001b[32mℹ\u001b[39m Google's Terms of Service: \u001b[34m\u001b[3m<https://mapsplatform.google.com>\u001b[23m\u001b[39m\n",
      "  Stadia Maps' Terms of Service: \u001b[34m\u001b[3m<https://stadiamaps.com/terms-of-service/>\u001b[23m\u001b[39m\n",
      "  OpenStreetMap's Tile Usage Policy: \u001b[34m\u001b[3m<https://operations.osmfoundation.org/policies/tiles/>\u001b[23m\u001b[39m\n",
      "\u001b[32mℹ\u001b[39m Please cite \u001b[34mggmap\u001b[39m if you use it! Use `citation(\"ggmap\")` for details.\n",
      "Loading required package: viridisLite\n",
      "\n",
      "To enable caching of data, set `options(tigris_use_cache = TRUE)`\n",
      "in your R script or .Rprofile.\n",
      "\n"
     ]
    }
   ],
   "source": [
    "library(tidycensus)\n",
    "library(tidyverse)\n",
    "library(sf)\n",
    "library(ggmap)\n",
    "library(viridis)\n",
    "library(tigris)\n",
    "library(leaflet)\n",
    "options(tigris_use_cache = TRUE)\n",
    "\n",
    "library(htmltools)\n",
    "library(htmlwidgets)"
   ]
  },
  {
   "cell_type": "code",
   "execution_count": 2,
   "id": "ba23ee15-1b76-4d68-a4d0-47728ade338b",
   "metadata": {
    "tags": []
   },
   "outputs": [],
   "source": [
    "files <- list.files(path=\"rta-gtfs-files/unzipped-files/\", pattern=\"\", full.names=TRUE, recursive=FALSE)"
   ]
  },
  {
   "cell_type": "code",
   "execution_count": 8,
   "id": "a4c1c79e-c476-4742-9d7b-01cd7855d99a",
   "metadata": {
    "tags": []
   },
   "outputs": [
    {
     "name": "stdout",
     "output_type": "stream",
     "text": [
      "[1] \"rta-gtfs-files/unzipped-files//berkshire-ma-us\"\n",
      "[1] \"routes.txt\"\n",
      "[1] \"shapes.txt\"\n",
      "[1] \"trips.txt\"\n",
      "[1] \"rta-gtfs-files/unzipped-files//brockton-ma-us\"\n",
      "[1] \"routes.txt\"\n",
      "[1] \"shapes.txt\"\n",
      "[1] \"trips.txt\"\n",
      "[1] \"rta-gtfs-files/unzipped-files//capeann-ma-us\"\n",
      "[1] \"routes.txt\"\n",
      "[1] \"shapes.txt\"\n",
      "[1] \"trips.txt\"\n",
      "[1] \"rta-gtfs-files/unzipped-files//capecod-ma-us\"\n",
      "[1] \"routes.txt\"\n",
      "[1] \"shapes.txt\"\n",
      "[1] \"trips.txt\"\n",
      "[1] \"rta-gtfs-files/unzipped-files//frta-ma-us\"\n",
      "[1] \"routes.txt\"\n",
      "[1] \"shapes.txt\"\n",
      "[1] \"trips.txt\"\n",
      "[1] \"rta-gtfs-files/unzipped-files//gatra-ma-us\"\n",
      "[1] \"routes.txt\"\n",
      "[1] \"shapes.txt\"\n",
      "[1] \"trips.txt\"\n",
      "[1] \"rta-gtfs-files/unzipped-files//lowell-ma-us\"\n",
      "[1] \"routes.txt\"\n",
      "[1] \"shapes.txt\"\n",
      "[1] \"trips.txt\"\n",
      "[1] \"rta-gtfs-files/unzipped-files//marthasvineyard-ma-us\"\n",
      "[1] \"routes.txt\"\n",
      "[1] \"shapes.txt\"\n",
      "[1] \"trips.txt\"\n",
      "[1] \"rta-gtfs-files/unzipped-files//MBTA_GTFS\"\n",
      "[1] \"routes.txt\"\n",
      "[1] \"shapes.txt\"\n",
      "[1] \"trips.txt\"\n",
      "[1] \"rta-gtfs-files/unzipped-files//merrimackvalley-ma-us\"\n",
      "[1] \"routes.txt\"\n",
      "[1] \"shapes.txt\"\n",
      "[1] \"trips.txt\"\n",
      "[1] \"rta-gtfs-files/unzipped-files//montachusett-ma-us\"\n",
      "[1] \"routes.txt\"\n",
      "[1] \"shapes.txt\"\n",
      "[1] \"trips.txt\"\n",
      "[1] \"rta-gtfs-files/unzipped-files//mwrta\"\n",
      "[1] \"routes.txt\"\n",
      "[1] \"shapes.txt\"\n",
      "[1] \"trips.txt\"\n",
      "[1] \"rta-gtfs-files/unzipped-files//nantucket-ma-us\"\n",
      "[1] \"routes.txt\"\n",
      "[1] \"shapes.txt\"\n",
      "[1] \"trips.txt\"\n",
      "[1] \"rta-gtfs-files/unzipped-files//pioneervalley-ma-us\"\n",
      "[1] \"routes.txt\"\n",
      "[1] \"shapes.txt\"\n",
      "[1] \"trips.txt\"\n",
      "[1] \"rta-gtfs-files/unzipped-files//srta-ma-us\"\n",
      "[1] \"routes.txt\"\n",
      "[1] \"shapes.txt\"\n",
      "[1] \"trips.txt\"\n",
      "[1] \"rta-gtfs-files/unzipped-files//wrta-ma-us\"\n",
      "[1] \"routes.txt\"\n",
      "[1] \"shapes.txt\"\n",
      "[1] \"trips.txt\"\n"
     ]
    }
   ],
   "source": [
    "for (f in files) {\n",
    "    rta_files <- list.files(path=f)\n",
    "    print(f)\n",
    "    for (rf in rta_files){\n",
    "        if (rf %in% c(\"shapes.txt\",\"routes.txt\",\"trips.txt\")) {\n",
    "            print(rf)\n",
    "        }\n",
    "    }\n",
    "}"
   ]
  },
  {
   "cell_type": "code",
   "execution_count": null,
   "id": "1c2bdea6-a0f1-4153-bf53-251738539054",
   "metadata": {},
   "outputs": [],
   "source": []
  }
 ],
 "metadata": {
  "environment": {
   "kernel": "ir",
   "name": ".m118",
   "type": "gcloud",
   "uri": "us-docker.pkg.dev/deeplearning-platform-release/gcr.io/:m118"
  },
  "kernelspec": {
   "display_name": "R",
   "language": "R",
   "name": "ir"
  },
  "language_info": {
   "codemirror_mode": "r",
   "file_extension": ".r",
   "mimetype": "text/x-r-source",
   "name": "R",
   "pygments_lexer": "r",
   "version": "4.3.3"
  }
 },
 "nbformat": 4,
 "nbformat_minor": 5
}

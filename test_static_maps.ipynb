{
 "cells": [
  {
   "cell_type": "code",
   "execution_count": 46,
   "id": "7483e1ec-6036-46bf-83a6-81bd40d25e36",
   "metadata": {
    "tags": []
   },
   "outputs": [],
   "source": [
    "library(tidycensus)\n",
    "library(tidyverse)\n",
    "library(sf)\n",
    "library(ggmap)\n",
    "library(viridis)\n",
    "library(tmaptools)\n",
    "library(tigris)\n",
    "library(leaflet)\n",
    "# library(mapview)\n",
    "options(tigris_use_cache = TRUE)"
   ]
  },
  {
   "cell_type": "code",
   "execution_count": 52,
   "id": "b5715e2a-a84c-46ff-adec-ee6d2917cdb8",
   "metadata": {
    "tags": []
   },
   "outputs": [],
   "source": [
    "# Load CENSUS_API_KEY and STADIAMAPS_API_KEY\n",
    "readRenviron(\".env\")\n",
    "register_stadiamaps(key = Sys.getenv(\"STADIAMAPS_API_KEY\"))"
   ]
  },
  {
   "cell_type": "markdown",
   "id": "7073b608-7013-43b5-b5d9-382230f5dadb",
   "metadata": {},
   "source": [
    "# Worcester"
   ]
  },
  {
   "cell_type": "markdown",
   "id": "37e24ef3-ea2e-464b-b81b-295e18d8bf77",
   "metadata": {},
   "source": [
    "## Load Data"
   ]
  },
  {
   "cell_type": "code",
   "execution_count": null,
   "id": "e972be98-866a-4637-8133-70beb01bff5b",
   "metadata": {},
   "outputs": [],
   "source": []
  }
 ],
 "metadata": {
  "environment": {
   "kernel": "ir",
   "name": ".m118",
   "type": "gcloud",
   "uri": "us-docker.pkg.dev/deeplearning-platform-release/gcr.io/:m118"
  },
  "kernelspec": {
   "display_name": "R",
   "language": "R",
   "name": "ir"
  },
  "language_info": {
   "codemirror_mode": "r",
   "file_extension": ".r",
   "mimetype": "text/x-r-source",
   "name": "R",
   "pygments_lexer": "r",
   "version": "4.3.3"
  }
 },
 "nbformat": 4,
 "nbformat_minor": 5
}
